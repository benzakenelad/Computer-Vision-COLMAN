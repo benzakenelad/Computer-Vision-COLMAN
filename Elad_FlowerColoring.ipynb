{
 "cells": [
  {
   "cell_type": "code",
   "execution_count": 99,
   "metadata": {},
   "outputs": [],
   "source": [
    "from keras.layers import Conv2D, Conv2DTranspose, UpSampling2D\n",
    "from keras.layers import Activation, Dense, Dropout, Flatten, InputLayer\n",
    "from keras.layers.normalization import BatchNormalization\n",
    "from keras.callbacks import TensorBoard\n",
    "from keras.models import Sequential\n",
    "from keras.preprocessing.image import ImageDataGenerator, array_to_img, img_to_array, load_img\n",
    "from skimage.color import rgb2lab, lab2rgb, rgb2gray\n",
    "from skimage.io import imsave\n",
    "from matplotlib import pyplot as plt\n",
    "from keras.utils import plot_model\n",
    "import graphviz\n",
    "import pydot\n",
    "import keras\n",
    "import numpy as np\n",
    "import os\n",
    "import random\n",
    "import tensorflow as tf\n",
    "from IPython.display import clear_output\n",
    "import argparse\n",
    "from keras.callbacks import ModelCheckpoint\n",
    "from datetime import datetime"
   ]
  },
  {
   "cell_type": "code",
   "execution_count": 100,
   "metadata": {},
   "outputs": [],
   "source": [
    "class PlotLosses(keras.callbacks.Callback):\n",
    "    def on_train_begin(self, logs={}):\n",
    "        self.i = 0\n",
    "        self.x = []\n",
    "        self.losses = []\n",
    "        self.val_losses = []\n",
    "        \n",
    "        self.fig = plt.figure()\n",
    "        \n",
    "        self.logs = []\n",
    "\n",
    "    def on_epoch_end(self, epoch, logs={}):\n",
    "        \n",
    "        self.logs.append(logs)\n",
    "        self.x.append(self.i)\n",
    "        self.losses.append(logs.get('loss'))\n",
    "        self.val_losses.append(logs.get('val_loss'))\n",
    "        self.i += 1\n",
    "        \n",
    "        clear_output(wait=True)\n",
    "        plt.plot(self.x, self.losses, label=\"loss\")\n",
    "        plt.plot(self.x, self.val_losses, label=\"val_loss\")\n",
    "        plt.legend()\n",
    "        plt.show();\n",
    "        \n",
    "plot_losses = PlotLosses()"
   ]
  },
  {
   "cell_type": "code",
   "execution_count": 101,
   "metadata": {},
   "outputs": [],
   "source": [
    "# Get images\n",
    "\n",
    "\n",
    "Xtrain=[]\n",
    "Ytrain=[]\n",
    "\n",
    "for filename in os.listdir('/home/project67/ML_DATA/JPEG96/JPEG96'):\n",
    "    img = img_to_array(load_img('/home/project67/ML_DATA/JPEG96/JPEG96/'+filename))\n",
    "    img = img * (1/255)\n",
    "    img = rgb2lab(img)\n",
    "\n",
    "    x = img[:,:,0] #L\n",
    "    y = img[:,:,1:]/128 #ab\n",
    "    \n",
    "    x = np.array(x,dtype=float)\n",
    "    Xtrain.append(x)\n",
    "    \n",
    "    y = np.array(y,dtype=float)\n",
    "    Ytrain.append(y)\n",
    "    \n",
    "    "
   ]
  },
  {
   "cell_type": "code",
   "execution_count": 103,
   "metadata": {},
   "outputs": [],
   "source": [
    "# # COLORING MODEL RECIEVE 96*96*1 AND GENERATE 96*96*2\n",
    "modelColor = Sequential()\n",
    "modelColor.add(InputLayer(input_shape=(96, 96,1)))\n",
    "modelColor.add(Conv2D(64, (3, 3), activation='relu', padding='same'))\n",
    "modelColor.add(Conv2D(64, (3, 3), activation='relu', padding='same', strides=2))\n",
    "modelColor.add(Conv2D(128, (3, 3), activation='relu', padding='same'))\n",
    "modelColor.add(Conv2D(128, (3, 3), activation='relu', padding='same', strides=2))\n",
    "modelColor.add(Conv2D(256, (3, 3), activation='relu', padding='same'))\n",
    "modelColor.add(Conv2D(256, (3, 3), activation='relu', padding='same', strides=2))\n",
    "modelColor.add(Conv2D(512, (3, 3), activation='relu', padding='same'))\n",
    "modelColor.add(Conv2D(256, (3, 3), activation='relu', padding='same'))\n",
    "modelColor.add(Conv2D(128, (3, 3), activation='relu', padding='same'))\n",
    "modelColor.add(UpSampling2D((2, 2)))\n",
    "modelColor.add(Conv2D(64, (3, 3), activation='relu', padding='same'))\n",
    "modelColor.add(UpSampling2D((2, 2)))\n",
    "modelColor.add(Conv2D(32, (3, 3), activation='relu', padding='same'))\n",
    "modelColor.add(UpSampling2D((2, 2)))\n",
    "modelColor.add(Conv2D(2, (3, 3), activation='tanh', padding='same'))\n",
    "\n",
    "modelColor.compile(optimizer='rmsprop', loss='mse')#mse is (1/n)sigma i in range 1 to n (Yi-Yi')^2\n",
    "# Generate training data\n",
    "batch_size = 128\n",
    "epochs = 64\n",
    "steps_per_epoch = 4"
   ]
  },
  {
   "cell_type": "code",
   "execution_count": 84,
   "metadata": {},
   "outputs": [
    {
     "data": {
      "image/png": "[encoded data removed]",
      "text/plain": [
       "<matplotlib.figure.Figure at 0x7f8aca6443c8>"
      ]
     },
     "metadata": {},
     "output_type": "display_data"
    },
    {
     "name": "stdout",
     "output_type": "stream",
     "text": [
      "\b\b\b\b\b\b\b\b\b\b\b\b\b\b\b\b\b\b\b\b\b\b\b\b\b\b\b\b\b\b\b\b\b\b\b\b\b\b\b\b\b\b\b\b\b\b\b\b\b\b\b\b\b\b\b\b\b\b\b\b\b\r",
      "4/4 [==============================] - 2s 381ms/step - loss: 0.0357\n"
     ]
    },
    {
     "data": {
      "text/plain": [
       "<keras.callbacks.History at 0x7f8af868f9e8>"
      ]
     },
     "execution_count": 84,
     "metadata": {},
     "output_type": "execute_result"
    }
   ],
   "source": [
    "\n",
    "# def image_Lab_gen(inputt, outputt, batch_size):\n",
    "#     xx=np.expand_dims(inputt, axis=3)\n",
    "#     x_batch = np.zeros((batch_size, 96, 96,1))\n",
    "#     y_batch = np.zeros((batch_size, 96, 96, 2))\n",
    "#     while True:\n",
    "#         for i in range(batch_size):\n",
    "#             x_batch[i] = xx[i]\n",
    "#             y_batch[i] = outputt[i]\n",
    "#             yield (x_batch, y_batch)\n",
    "        \n",
    "\n",
    "# # Train model + validation addition\n",
    "# tensorboard = TensorBoard(log_dir='/home/project67/ML_DATA/JPEG96/log')\n",
    "# modelColor.fit_generator(image_Lab_gen(Xtrain,Ytrain,batch_size),callbacks=[plot_losses, tensorboard], epochs=epochs, steps_per_epoch=steps_per_epoch)\n"
   ]
  },
  {
   "cell_type": "code",
   "execution_count": 104,
   "metadata": {},
   "outputs": [],
   "source": [
    "Xtrain=np.expand_dims(Xtrain, axis=3)\n",
    "\n",
    "\n"
   ]
  },
  {
   "cell_type": "code",
   "execution_count": 108,
   "metadata": {},
   "outputs": [
    {
     "data": {
      "image/png": "[encoded data removed]",
      "text/plain": [
       "<matplotlib.figure.Figure at 0x7f8ac9bd15f8>"
      ]
     },
     "metadata": {},
     "output_type": "display_data"
    },
    {
     "name": "stdout",
     "output_type": "stream",
     "text": [
      "\b\b\b\b\b\b\b\b\b\b\b\b\b\b\b\b\b\b\b\b\b\b\b\b\b\b\b\b\b\b\b\b\b\b\b\b\b\b\b\b\b\b\b\b\b\b\b\b\b\b\b\b\b\b\b\b\b\b\b\b\b\b\b\b\b\b\b\r",
      "8189/8189 [==============================] - 46s 6ms/step - loss: 0.0087\n"
     ]
    },
    {
     "data": {
      "text/plain": [
       "<keras.callbacks.History at 0x7f8aca2f2c18>"
      ]
     },
     "execution_count": 108,
     "metadata": {},
     "output_type": "execute_result"
    }
   ],
   "source": [
    "modelColor.fit(np.array(Xtrain),np.array(Ytrain),batch_size,callbacks=[plot_losses, tensorboard], epochs=epochs)"
   ]
  },
  {
   "cell_type": "code",
   "execution_count": 120,
   "metadata": {},
   "outputs": [
    {
     "name": "stdout",
     "output_type": "stream",
     "text": [
      "(1, 96, 96, 1)\n"
     ]
    },
    {
     "name": "stderr",
     "output_type": "stream",
     "text": [
      "/home/project67/.local/lib/python3.5/site-packages/ipykernel_launcher.py:18: DeprecationWarning: Both axis > a.ndim and axis < -a.ndim - 1 are deprecated and will raise an AxisError in the future.\n"
     ]
    }
   ],
   "source": [
    "# Change to '/data/images/Test/' to use all the 500 images\n",
    "color_me = []\n",
    "L_images = []\n",
    "for filename in os.listdir('/home/project67/ML_DATA/JPEG96/Test'):\n",
    "    img = load_img('/home/project67/ML_DATA/JPEG96/Test/'+filename)\n",
    "    img = img.resize((96,96))\n",
    "    img = img_to_array(img)\n",
    "    img = rgb2lab(img/255)\n",
    "    \n",
    "\n",
    "    x = img[:,:,0] #L\n",
    "    x = np.array(x,dtype=float)\n",
    "    L_images.append(x)\n",
    "    color_me.append(x)\n",
    "    \n",
    " \n",
    "\n",
    "color_me = np.expand_dims(color_me, axis=4) \n",
    "print(color_me.shape)"
   ]
  },
  {
   "cell_type": "code",
   "execution_count": 121,
   "metadata": {},
   "outputs": [
    {
     "name": "stderr",
     "output_type": "stream",
     "text": [
      "/usr/local/lib/python3.5/dist-packages/skimage/util/dtype.py:122: UserWarning: Possible precision loss when converting from float64 to uint8\n",
      "  .format(dtypeobj_in, dtypeobj_out))\n"
     ]
    }
   ],
   "source": [
    "# Test model\n",
    "ABoutput = modelColor.predict(color_me)\n",
    "ABoutput = ABoutput*128\n",
    "\n",
    "# Output colorizations\n",
    "for i in range(len(color_me)):\n",
    "    cur = np.zeros((96, 96, 3))\n",
    "    cur[:,:,0] =  color_me[i][:,:,0]\n",
    "    cur[:,:,1:] = ABoutput[i]\n",
    "    cur = lab2rgb(cur)\n",
    "    # cur = array_to_img(cur)\n",
    "    imsave(\"/home/project67/ML_DATA/JPEG96/TestAnswers/\"+str(i)+\".png\", cur)"
   ]
  },
  {
   "cell_type": "code",
   "execution_count": null,
   "metadata": {},
   "outputs": [],
   "source": []
  }
 ],
 "metadata": {
  "kernelspec": {
   "display_name": "tensorflow",
   "language": "python",
   "name": "tensorflow"
  },
  "language_info": {
   "codemirror_mode": {
    "name": "ipython",
    "version": 3
   },
   "file_extension": ".py",
   "mimetype": "text/x-python",
   "name": "python",
   "nbconvert_exporter": "python",
   "pygments_lexer": "ipython3",
   "version": "3.5.2"
  }
 },
 "nbformat": 4,
 "nbformat_minor": 2
}
