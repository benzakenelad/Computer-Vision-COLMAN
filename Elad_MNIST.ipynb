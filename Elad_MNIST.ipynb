{
 "cells": [
  {
   "cell_type": "code",
   "execution_count": 45,
   "metadata": {},
   "outputs": [],
   "source": [
    "import numpy as np # linear algebra\n",
    "from keras import models\n",
    "from keras import layers\n",
    "from keras.datasets import mnist\n",
    "from keras import optimizers\n",
    "from keras.utils import to_categorical\n",
    "import matplotlib.pyplot as plt"
   ]
  },
  {
   "cell_type": "code",
   "execution_count": 46,
   "metadata": {},
   "outputs": [],
   "source": [
    "(X_train, y_train), (X_test, y_test) = mnist.load_data()\n",
    "\n",
    "X_train = X_train.astype('float32') / 255 \n",
    "X_test = X_test.astype('float32') / 255\n",
    "\n",
    "y_train = to_categorical(y_train)\n",
    "y_test = to_categorical(y_test)\n"
   ]
  },
  {
   "cell_type": "code",
   "execution_count": 47,
   "metadata": {},
   "outputs": [],
   "source": [
    "temp_X_train = []\n",
    "for i in range(60000):\n",
    "    temp_X_train.append(X_train[i].flatten())\n",
    "\n",
    "temp_X_test = []\n",
    "for i in range(10000):\n",
    "    temp_X_test.append(X_test[i].flatten())\n",
    "    \n",
    "X_train = np.array(temp_X_train)\n",
    "X_test = np.array(temp_X_test)"
   ]
  },
  {
   "cell_type": "code",
   "execution_count": 53,
   "metadata": {},
   "outputs": [],
   "source": [
    "model = models.Sequential() \n",
    "model.add(layers.Dense(512, activation='relu', input_shape=(28 * 28,))) \n",
    "model.add(layers.Dense(256,activation='relu'))\n",
    "model.add(layers.Dense(10, activation='softmax'))\n",
    "optimizer = optimizers.RMSprop()\n",
    "model.compile(optimizer=optimizer,\n",
    "                loss='categorical_crossentropy',\n",
    "                metrics=['accuracy'])"
   ]
  },
  {
   "cell_type": "code",
   "execution_count": 54,
   "metadata": {},
   "outputs": [
    {
     "name": "stdout",
     "output_type": "stream",
     "text": [
      "Train on 51000 samples, validate on 9000 samples\n",
      "Epoch 1/8\n",
      "51000/51000 [==============================] - 1s 24us/step - loss: 0.2492 - acc: 0.9222 - val_loss: 0.1302 - val_acc: 0.9590\n",
      "Epoch 2/8\n",
      "51000/51000 [==============================] - 1s 19us/step - loss: 0.0923 - acc: 0.9708 - val_loss: 0.1032 - val_acc: 0.9690\n",
      "Epoch 3/8\n",
      "51000/51000 [==============================] - 1s 19us/step - loss: 0.0593 - acc: 0.9816 - val_loss: 0.0781 - val_acc: 0.9788\n",
      "Epoch 4/8\n",
      "51000/51000 [==============================] - 1s 19us/step - loss: 0.0414 - acc: 0.9866 - val_loss: 0.1050 - val_acc: 0.9711\n",
      "Epoch 5/8\n",
      "51000/51000 [==============================] - 1s 19us/step - loss: 0.0304 - acc: 0.9905 - val_loss: 0.0959 - val_acc: 0.9776\n",
      "Epoch 6/8\n",
      "51000/51000 [==============================] - 1s 19us/step - loss: 0.0237 - acc: 0.9924 - val_loss: 0.1173 - val_acc: 0.9742\n",
      "Epoch 7/8\n",
      "51000/51000 [==============================] - 1s 19us/step - loss: 0.0173 - acc: 0.9945 - val_loss: 0.1023 - val_acc: 0.9787\n",
      "Epoch 8/8\n",
      "51000/51000 [==============================] - 1s 19us/step - loss: 0.0151 - acc: 0.9954 - val_loss: 0.0954 - val_acc: 0.9807\n"
     ]
    }
   ],
   "source": [
    "history = model.fit(X_train, y_train, epochs=8, batch_size=128, validation_split=0.15)"
   ]
  },
  {
   "cell_type": "code",
   "execution_count": 55,
   "metadata": {},
   "outputs": [
    {
     "data": {
      "image/png": "[encoded data removed]",
      "text/plain": [
       "<matplotlib.figure.Figure at 0x7f311f4ac128>"
      ]
     },
     "metadata": {},
     "output_type": "display_data"
    }
   ],
   "source": [
    "plt.plot(history.history['acc'])\n",
    "plt.plot(history.history['val_acc'])\n",
    "plt.title('model accuracy')\n",
    "plt.ylabel('accuracy')\n",
    "plt.xlabel('epoch')\n",
    "plt.legend(['train', 'test'], loc='upper left')\n",
    "plt.show()"
   ]
  },
  {
   "cell_type": "code",
   "execution_count": 56,
   "metadata": {},
   "outputs": [
    {
     "name": "stdout",
     "output_type": "stream",
     "text": [
      "10000/10000 [==============================] - 0s 23us/step\n",
      "0.9816\n"
     ]
    }
   ],
   "source": [
    "test_loss, test_acc = model.evaluate(X_test, y_test)\n",
    "print(test_acc)"
   ]
  },
  {
   "cell_type": "code",
   "execution_count": 57,
   "metadata": {},
   "outputs": [
    {
     "name": "stdout",
     "output_type": "stream",
     "text": [
      "(10, 784)\n",
      "(10, 10)\n",
      "10/10 [==============================] - 0s 124us/step\n",
      "0.8999999761581421\n"
     ]
    }
   ],
   "source": [
    "from PIL import Image\n",
    "xtest = []\n",
    "ytest = []\n",
    "for s in range(0,10):\n",
    "    myImage = Image.open(\"/home/project67/Elad_learning/MNISTpics/\" + str(s) + \".bmp\");\n",
    "    myImage = myImage.resize((28,28), Image.ANTIALIAS)\n",
    "    px = myImage.load()\n",
    "\n",
    "\n",
    "    L = []\n",
    "    for i in range(0,28):\n",
    "        for j in range(0,28):\n",
    "            L.append((px[j,i]) / 255)\n",
    "\n",
    "    A = [0,0,0,0,0,0,0,0,0,0]\n",
    "    A[s] = 1;\n",
    "    L = np.array(L)\n",
    "    A = np.array(A)\n",
    "    xtest.append(L)\n",
    "    ytest.append(A)\n",
    "xtest = np.array(xtest)\n",
    "ytest = np.array(ytest)\n",
    "print(xtest.shape)\n",
    "print(ytest.shape)\n",
    "accuracy = model.evaluate(x=xtest,y=ytest)\n",
    "print(accuracy[1])"
   ]
  },
  {
   "cell_type": "code",
   "execution_count": null,
   "metadata": {},
   "outputs": [],
   "source": []
  }
 ],
 "metadata": {
  "kernelspec": {
   "display_name": "tensorflow",
   "language": "python",
   "name": "tensorflow"
  },
  "language_info": {
   "codemirror_mode": {
    "name": "ipython",
    "version": 3
   },
   "file_extension": ".py",
   "mimetype": "text/x-python",
   "name": "python",
   "nbconvert_exporter": "python",
   "pygments_lexer": "ipython3",
   "version": "3.5.2"
  }
 },
 "nbformat": 4,
 "nbformat_minor": 2
}
